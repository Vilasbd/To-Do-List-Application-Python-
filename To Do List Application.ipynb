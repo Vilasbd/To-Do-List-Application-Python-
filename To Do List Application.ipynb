{
 "cells": [
  {
   "cell_type": "markdown",
   "id": "24dc89b8-ca00-4c8c-b4da-b5c30cd796ec",
   "metadata": {},
   "source": [
    "To Do List Application :"
   ]
  },
  {
   "cell_type": "code",
   "execution_count": 7,
   "id": "7f2664a6-1847-43c4-899b-ab99e27249ce",
   "metadata": {},
   "outputs": [
    {
     "name": "stdout",
     "output_type": "stream",
     "text": [
      "\n",
      "To-Do List Application\n",
      "1. Add task\n",
      "2. Remove task\n",
      "3. List tasks\n",
      "4. Mark task as done\n",
      "5. List done tasks\n",
      "6. Clear tasks\n",
      "7. Clear done tasks\n",
      "8. Quit\n"
     ]
    },
    {
     "name": "stdin",
     "output_type": "stream",
     "text": [
      "Enter your choice:  1\n",
      "Enter a task:  homework\n"
     ]
    },
    {
     "name": "stdout",
     "output_type": "stream",
     "text": [
      "Task added: homework\n",
      "\n",
      "To-Do List Application\n",
      "1. Add task\n",
      "2. Remove task\n",
      "3. List tasks\n",
      "4. Mark task as done\n",
      "5. List done tasks\n",
      "6. Clear tasks\n",
      "7. Clear done tasks\n",
      "8. Quit\n"
     ]
    },
    {
     "name": "stdin",
     "output_type": "stream",
     "text": [
      "Enter your choice:  1\n",
      "Enter a task:  shoping\n"
     ]
    },
    {
     "name": "stdout",
     "output_type": "stream",
     "text": [
      "Task added: shoping\n",
      "\n",
      "To-Do List Application\n",
      "1. Add task\n",
      "2. Remove task\n",
      "3. List tasks\n",
      "4. Mark task as done\n",
      "5. List done tasks\n",
      "6. Clear tasks\n",
      "7. Clear done tasks\n",
      "8. Quit\n"
     ]
    },
    {
     "name": "stdin",
     "output_type": "stream",
     "text": [
      "Enter your choice:  1\n",
      "Enter a task:  play\n"
     ]
    },
    {
     "name": "stdout",
     "output_type": "stream",
     "text": [
      "Task added: play\n",
      "\n",
      "To-Do List Application\n",
      "1. Add task\n",
      "2. Remove task\n",
      "3. List tasks\n",
      "4. Mark task as done\n",
      "5. List done tasks\n",
      "6. Clear tasks\n",
      "7. Clear done tasks\n",
      "8. Quit\n"
     ]
    },
    {
     "name": "stdin",
     "output_type": "stream",
     "text": [
      "Enter your choice:  1\n",
      "Enter a task:  sleep\n"
     ]
    },
    {
     "name": "stdout",
     "output_type": "stream",
     "text": [
      "Task added: sleep\n",
      "\n",
      "To-Do List Application\n",
      "1. Add task\n",
      "2. Remove task\n",
      "3. List tasks\n",
      "4. Mark task as done\n",
      "5. List done tasks\n",
      "6. Clear tasks\n",
      "7. Clear done tasks\n",
      "8. Quit\n"
     ]
    },
    {
     "name": "stdin",
     "output_type": "stream",
     "text": [
      "Enter your choice:  3\n"
     ]
    },
    {
     "name": "stdout",
     "output_type": "stream",
     "text": [
      "homework\n",
      "shoping\n",
      "play\n",
      "sleep\n",
      "\n",
      "To-Do List Application\n",
      "1. Add task\n",
      "2. Remove task\n",
      "3. List tasks\n",
      "4. Mark task as done\n",
      "5. List done tasks\n",
      "6. Clear tasks\n",
      "7. Clear done tasks\n",
      "8. Quit\n"
     ]
    },
    {
     "name": "stdin",
     "output_type": "stream",
     "text": [
      "Enter your choice:  2\n",
      "Enter the task to remove:  sleep\n"
     ]
    },
    {
     "name": "stdout",
     "output_type": "stream",
     "text": [
      "Task removed: sleep\n",
      "\n",
      "To-Do List Application\n",
      "1. Add task\n",
      "2. Remove task\n",
      "3. List tasks\n",
      "4. Mark task as done\n",
      "5. List done tasks\n",
      "6. Clear tasks\n",
      "7. Clear done tasks\n",
      "8. Quit\n"
     ]
    },
    {
     "name": "stdin",
     "output_type": "stream",
     "text": [
      "Enter your choice:  3\n"
     ]
    },
    {
     "name": "stdout",
     "output_type": "stream",
     "text": [
      "homework\n",
      "shoping\n",
      "play\n",
      "\n",
      "To-Do List Application\n",
      "1. Add task\n",
      "2. Remove task\n",
      "3. List tasks\n",
      "4. Mark task as done\n",
      "5. List done tasks\n",
      "6. Clear tasks\n",
      "7. Clear done tasks\n",
      "8. Quit\n"
     ]
    },
    {
     "name": "stdin",
     "output_type": "stream",
     "text": [
      "Enter your choice:  4\n",
      "Enter the task to mark as done:  play\n"
     ]
    },
    {
     "name": "stdout",
     "output_type": "stream",
     "text": [
      "Task marked as done: play\n",
      "\n",
      "To-Do List Application\n",
      "1. Add task\n",
      "2. Remove task\n",
      "3. List tasks\n",
      "4. Mark task as done\n",
      "5. List done tasks\n",
      "6. Clear tasks\n",
      "7. Clear done tasks\n",
      "8. Quit\n"
     ]
    },
    {
     "name": "stdin",
     "output_type": "stream",
     "text": [
      "Enter your choice:  5\n"
     ]
    },
    {
     "name": "stdout",
     "output_type": "stream",
     "text": [
      "play\n",
      "\n",
      "To-Do List Application\n",
      "1. Add task\n",
      "2. Remove task\n",
      "3. List tasks\n",
      "4. Mark task as done\n",
      "5. List done tasks\n",
      "6. Clear tasks\n",
      "7. Clear done tasks\n",
      "8. Quit\n"
     ]
    },
    {
     "name": "stdin",
     "output_type": "stream",
     "text": [
      "Enter your choice:  6\n"
     ]
    },
    {
     "name": "stdout",
     "output_type": "stream",
     "text": [
      "All tasks cleared\n",
      "\n",
      "To-Do List Application\n",
      "1. Add task\n",
      "2. Remove task\n",
      "3. List tasks\n",
      "4. Mark task as done\n",
      "5. List done tasks\n",
      "6. Clear tasks\n",
      "7. Clear done tasks\n",
      "8. Quit\n"
     ]
    },
    {
     "name": "stdin",
     "output_type": "stream",
     "text": [
      "Enter your choice:  3\n"
     ]
    },
    {
     "name": "stdout",
     "output_type": "stream",
     "text": [
      "\n",
      "To-Do List Application\n",
      "1. Add task\n",
      "2. Remove task\n",
      "3. List tasks\n",
      "4. Mark task as done\n",
      "5. List done tasks\n",
      "6. Clear tasks\n",
      "7. Clear done tasks\n",
      "8. Quit\n"
     ]
    },
    {
     "name": "stdin",
     "output_type": "stream",
     "text": [
      "Enter your choice:  5\n"
     ]
    },
    {
     "name": "stdout",
     "output_type": "stream",
     "text": [
      "play\n",
      "\n",
      "To-Do List Application\n",
      "1. Add task\n",
      "2. Remove task\n",
      "3. List tasks\n",
      "4. Mark task as done\n",
      "5. List done tasks\n",
      "6. Clear tasks\n",
      "7. Clear done tasks\n",
      "8. Quit\n"
     ]
    },
    {
     "name": "stdin",
     "output_type": "stream",
     "text": [
      "Enter your choice:  7\n"
     ]
    },
    {
     "name": "stdout",
     "output_type": "stream",
     "text": [
      "All done tasks cleared\n",
      "\n",
      "To-Do List Application\n",
      "1. Add task\n",
      "2. Remove task\n",
      "3. List tasks\n",
      "4. Mark task as done\n",
      "5. List done tasks\n",
      "6. Clear tasks\n",
      "7. Clear done tasks\n",
      "8. Quit\n"
     ]
    },
    {
     "name": "stdin",
     "output_type": "stream",
     "text": [
      "Enter your choice:  5\n"
     ]
    },
    {
     "name": "stdout",
     "output_type": "stream",
     "text": [
      "\n",
      "To-Do List Application\n",
      "1. Add task\n",
      "2. Remove task\n",
      "3. List tasks\n",
      "4. Mark task as done\n",
      "5. List done tasks\n",
      "6. Clear tasks\n",
      "7. Clear done tasks\n",
      "8. Quit\n"
     ]
    },
    {
     "name": "stdin",
     "output_type": "stream",
     "text": [
      "Enter your choice:  8\n"
     ]
    },
    {
     "name": "stdout",
     "output_type": "stream",
     "text": [
      "Good bye!\n"
     ]
    }
   ],
   "source": [
    "def add_task():\n",
    "    task = input(\"Enter a task: \")\n",
    "    tasks.append(task)\n",
    "    print(f\"Task added: {task}\")\n",
    "\n",
    "def remove_task():\n",
    "    task = input(\"Enter the task to remove: \")\n",
    "    if task in tasks:\n",
    "        tasks.remove(task)\n",
    "        print(f\"Task removed: {task}\")\n",
    "    else:\n",
    "        print(\"Task not found\")\n",
    "\n",
    "def list_tasks():\n",
    "    for task in tasks:\n",
    "        print(task)\n",
    "\n",
    "def mark_task_as_done():\n",
    "    task = input(\"Enter the task to mark as done: \")\n",
    "    if task in tasks:\n",
    "        done_tasks.append(task)\n",
    "        tasks.remove(task)\n",
    "        print(f\"Task marked as done: {task}\")\n",
    "    else:\n",
    "        print(\"Task not found\")\n",
    "\n",
    "def list_done_tasks():\n",
    "    for task in done_tasks:\n",
    "        print(task)\n",
    "\n",
    "def clear_tasks():\n",
    "    tasks.clear()\n",
    "    print(\"All tasks cleared\")\n",
    "\n",
    "def clear_done_tasks():\n",
    "    done_tasks.clear()\n",
    "    print(\"All done tasks cleared\")\n",
    "\n",
    "def main():\n",
    "    while True:\n",
    "        print(\"\\nTo-Do List Application\")\n",
    "        print(\"1. Add task\")\n",
    "        print(\"2. Remove task\")\n",
    "        print(\"3. List tasks\")\n",
    "        print(\"4. Mark task as done\")\n",
    "        print(\"5. List done tasks\")\n",
    "        print(\"6. Clear tasks\")\n",
    "        print(\"7. Clear done tasks\")\n",
    "        print(\"8. Quit\")\n",
    "\n",
    "        choice = input(\"Enter your choice: \")\n",
    "\n",
    "        if choice == \"1\":\n",
    "            add_task()\n",
    "        elif choice == \"2\":\n",
    "            remove_task()\n",
    "        elif choice == \"3\":\n",
    "            list_tasks()\n",
    "        elif choice == \"4\":\n",
    "            mark_task_as_done()\n",
    "        elif choice == \"5\":\n",
    "            list_done_tasks()\n",
    "        elif choice == \"6\":\n",
    "            clear_tasks()\n",
    "        elif choice == \"7\":\n",
    "            clear_done_tasks()\n",
    "        elif choice == \"8\":\n",
    "            print(\"Good bye!\")\n",
    "            break\n",
    "        else:\n",
    "            print(\"Invalid choice\")\n",
    "\n",
    "if __name__== \"__main__\":\n",
    "    tasks = []\n",
    "    done_tasks = []\n",
    "    main()"
   ]
  }
 ],
 "metadata": {
  "kernelspec": {
   "display_name": "Python 3 (ipykernel)",
   "language": "python",
   "name": "python3"
  },
  "language_info": {
   "codemirror_mode": {
    "name": "ipython",
    "version": 3
   },
   "file_extension": ".py",
   "mimetype": "text/x-python",
   "name": "python",
   "nbconvert_exporter": "python",
   "pygments_lexer": "ipython3",
   "version": "3.11.7"
  }
 },
 "nbformat": 4,
 "nbformat_minor": 5
}
